{
 "cells": [
  {
   "cell_type": "code",
   "execution_count": 1,
   "id": "5ae22796",
   "metadata": {},
   "outputs": [],
   "source": [
    "import numpy as np\n",
    "import matplotlib.pyplot as plt"
   ]
  },
  {
   "cell_type": "code",
   "execution_count": 2,
   "id": "f0be631e",
   "metadata": {},
   "outputs": [],
   "source": [
    "def gauss(x, miu, sigma):\n",
    "    s_part = 1/(sigma*np.sqrt(2*np.pi))\n",
    "    e_part = -0.5 * np.power((x-miu)/sigma, 2)\n",
    "    return s_part * np.exp(e_part)"
   ]
  },
  {
   "cell_type": "code",
   "execution_count": 3,
   "id": "6af0de62",
   "metadata": {},
   "outputs": [],
   "source": [
    "def meet_point(miu1, sigma1, miu2, sigma2):\n",
    "    sigma1sq = np.power(sigma1, 2)\n",
    "    sigma2sq = np.power(sigma2, 2)\n",
    "    a = 0.5 * ((1/sigma2sq) - (1/sigma1sq))\n",
    "    b = (miu1/sigma1sq) - (miu2/sigma2sq)\n",
    "    c = np.log(sigma2) - np.log(sigma1) + 0.5 * ((np.power(miu2,2)/sigma2sq) - (np.power(miu1,2)/sigma1sq))\n",
    "    if np.isclose(a, 0):\n",
    "        # równianie pierwszego rzędu\n",
    "        x = -c/b\n",
    "        return x, x\n",
    "    delta = np.power(b, 2) - 4*a*c\n",
    "    delta_sq = np.sqrt(delta)\n",
    "    x1 = (-b-delta_sq)/(2*a)\n",
    "    x2 = (-b+delta_sq)/(2*a)\n",
    "    \n",
    "    return x1, x2"
   ]
  },
  {
   "cell_type": "code",
   "execution_count": 4,
   "id": "44fd9269",
   "metadata": {},
   "outputs": [],
   "source": [
    "m1, s1 = 1, 3\n",
    "m2, s2 = -1, 1"
   ]
  },
  {
   "cell_type": "code",
   "execution_count": 5,
   "id": "6fa912ba",
   "metadata": {},
   "outputs": [],
   "source": [
    "m1, m2 = [ 1.66666667, -0.66666667]\n",
    "s1, s2 = [1.25721913, 1.25721913]"
   ]
  },
  {
   "cell_type": "code",
   "execution_count": 6,
   "id": "4639e6eb",
   "metadata": {},
   "outputs": [],
   "source": [
    "x = np.linspace(-10, 10, 1000)\n",
    "g1 = gauss(x, m1, s1)\n",
    "g2 = gauss(x, m2, s2)\n",
    "mp1, mp2 = meet_point(m1, s1, m2, s2)"
   ]
  },
  {
   "cell_type": "code",
   "execution_count": 7,
   "id": "348278fe",
   "metadata": {},
   "outputs": [
    {
     "data": {
      "image/png": "[encoded data removed]",
      "text/plain": [
       "<Figure size 720x432 with 1 Axes>"
      ]
     },
     "metadata": {
      "needs_background": "light"
     },
     "output_type": "display_data"
    }
   ],
   "source": [
    "plt.figure(figsize=(10, 6))\n",
    "plt.scatter(x, g1, s=1)\n",
    "plt.scatter(x, g2, s=1)\n",
    "plt.stem([mp1, mp2], 2*[np.max(np.concatenate((g1,g2))),], use_line_collection=True,linefmt='g')\n",
    "plt.show()"
   ]
  },
  {
   "cell_type": "code",
   "execution_count": 8,
   "id": "7214abc6",
   "metadata": {},
   "outputs": [
    {
     "data": {
      "text/plain": [
       "(0.49999999999999983, 0.49999999999999983)"
      ]
     },
     "execution_count": 8,
     "metadata": {},
     "output_type": "execute_result"
    }
   ],
   "source": [
    "mp1, mp2"
   ]
  },
  {
   "cell_type": "code",
   "execution_count": null,
   "id": "3d514741",
   "metadata": {},
   "outputs": [],
   "source": []
  }
 ],
 "metadata": {
  "kernelspec": {
   "display_name": "Python [conda env:graphrepr]",
   "language": "python",
   "name": "conda-env-graphrepr-py"
  },
  "language_info": {
   "codemirror_mode": {
    "name": "ipython",
    "version": 3
   },
   "file_extension": ".py",
   "mimetype": "text/x-python",
   "name": "python",
   "nbconvert_exporter": "python",
   "pygments_lexer": "ipython3",
   "version": "3.7.6"
  }
 },
 "nbformat": 4,
 "nbformat_minor": 5
}
